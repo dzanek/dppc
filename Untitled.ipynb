{
 "cells": [
  {
   "cell_type": "code",
   "execution_count": 2,
   "metadata": {},
   "outputs": [
    {
     "name": "stdout",
     "output_type": "stream",
     "text": [
      "[(0.2, 2), (0.2, 2), (0.2, 2), (0.2, 2), (0.2, 2), (0.2, 2), (0.2, 2), (0.2, 2), (0.2, 2), (0.2, 2), (0.2, 2), (0.2, 2), (0.2, 2), (0.2, 2), (0.2, 2), (0.2, 2), (0.2, 2), (0.2, 2), (0.2, 2), (0.2, 2), (0.2, 2), (0.2, 2), (0.2, 2), (0.2, 2), (0.2, 2), (0.2, 2), (0.2, 2), (0.2, 2), (0.2, 2), (0.2, 2), (0.2, 2), (0.2, 2), (0.2, 2), (0.2, 2), (0.2, 2), (0.2, 2)]\n",
      "(0.20000000000000001, 2.0, 0.20000000000000001, 2.0, 0.20000000000000001, 2.0, 0.20000000000000001, 2.0, 0.20000000000000001, 2.0, 0.20000000000000001, 2.0, 0.20000000000000001, 2.0, 0.20000000000000001, 2.0, 0.20000000000000001, 2.0, 0.20000000000000001, 2.0, 0.20000000000000001, 2.0, 0.20000000000000001, 2.0, 0.20000000000000001, 2.0, 0.20000000000000001, 2.0, 0.20000000000000001, 2.0, 0.20000000000000001, 2.0, 0.20000000000000001, 2.0, 0.20000000000000001, 2.0, 0.20000000000000001, 2.0, 0.20000000000000001, 2.0, 0.20000000000000001, 2.0, 0.20000000000000001, 2.0, 0.20000000000000001, 2.0, 0.20000000000000001, 2.0, 0.20000000000000001, 2.0, 0.20000000000000001, 2.0, 0.20000000000000001, 2.0, 0.20000000000000001, 2.0, 0.20000000000000001, 2.0, 0.20000000000000001, 2.0, 0.20000000000000001, 2.0, 0.20000000000000001, 2.0, 0.20000000000000001, 2.0, 0.20000000000000001, 2.0, 0.20000000000000001, 2.0, 0.20000000000000001, 2.0)\n"
     ]
    },
    {
     "ename": "IndexError",
     "evalue": "tuple index out of range",
     "output_type": "error",
     "traceback": [
      "\u001b[0;31m---------------------------------------------------------------------------\u001b[0m",
      "\u001b[0;31mIndexError\u001b[0m                                Traceback (most recent call last)",
      "\u001b[0;32m<ipython-input-2-04aa0b8023cd>\u001b[0m in \u001b[0;36m<module>\u001b[0;34m()\u001b[0m\n\u001b[1;32m     21\u001b[0m \u001b[0mexpected\u001b[0m \u001b[0;34m=\u001b[0m \u001b[0;34m[\u001b[0m\u001b[0;34m(\u001b[0m\u001b[0;36m0.2\u001b[0m\u001b[0;34m,\u001b[0m\u001b[0;36m2\u001b[0m\u001b[0;34m)\u001b[0m \u001b[0;32mfor\u001b[0m \u001b[0mi\u001b[0m \u001b[0;32min\u001b[0m \u001b[0mrange\u001b[0m\u001b[0;34m(\u001b[0m\u001b[0;36m36\u001b[0m\u001b[0;34m)\u001b[0m\u001b[0;34m]\u001b[0m\u001b[0;34m\u001b[0m\u001b[0m\n\u001b[1;32m     22\u001b[0m \u001b[0;32mprint\u001b[0m \u001b[0mexpected\u001b[0m\u001b[0;34m\u001b[0m\u001b[0m\n\u001b[0;32m---> 23\u001b[0;31m \u001b[0mparams\u001b[0m\u001b[0;34m,\u001b[0m\u001b[0mcov\u001b[0m\u001b[0;34m=\u001b[0m\u001b[0mcurve_fit\u001b[0m\u001b[0;34m(\u001b[0m\u001b[0mhund_modal\u001b[0m\u001b[0;34m,\u001b[0m\u001b[0mx\u001b[0m\u001b[0;34m,\u001b[0m\u001b[0my\u001b[0m\u001b[0;34m,\u001b[0m\u001b[0mexpected\u001b[0m\u001b[0;34m)\u001b[0m\u001b[0;34m\u001b[0m\u001b[0m\n\u001b[0m\u001b[1;32m     24\u001b[0m \u001b[0msigma\u001b[0m\u001b[0;34m=\u001b[0m\u001b[0mnp\u001b[0m\u001b[0;34m.\u001b[0m\u001b[0msqrt\u001b[0m\u001b[0;34m(\u001b[0m\u001b[0mnp\u001b[0m\u001b[0;34m.\u001b[0m\u001b[0mdiag\u001b[0m\u001b[0;34m(\u001b[0m\u001b[0mcov\u001b[0m\u001b[0;34m)\u001b[0m\u001b[0;34m)\u001b[0m\u001b[0;34m\u001b[0m\u001b[0m\n\u001b[1;32m     25\u001b[0m \u001b[0;32mprint\u001b[0m \u001b[0mparams\u001b[0m\u001b[0;34m\u001b[0m\u001b[0m\n",
      "\u001b[0;32m/usr/local/lib/python2.7/dist-packages/scipy/optimize/minpack.pyc\u001b[0m in \u001b[0;36mcurve_fit\u001b[0;34m(f, xdata, ydata, p0, sigma, absolute_sigma, check_finite, bounds, method, jac, **kwargs)\u001b[0m\n\u001b[1;32m    674\u001b[0m         \u001b[0;31m# Remove full_output from kwargs, otherwise we're passing it in twice.\u001b[0m\u001b[0;34m\u001b[0m\u001b[0;34m\u001b[0m\u001b[0m\n\u001b[1;32m    675\u001b[0m         \u001b[0mreturn_full\u001b[0m \u001b[0;34m=\u001b[0m \u001b[0mkwargs\u001b[0m\u001b[0;34m.\u001b[0m\u001b[0mpop\u001b[0m\u001b[0;34m(\u001b[0m\u001b[0;34m'full_output'\u001b[0m\u001b[0;34m,\u001b[0m \u001b[0mFalse\u001b[0m\u001b[0;34m)\u001b[0m\u001b[0;34m\u001b[0m\u001b[0m\n\u001b[0;32m--> 676\u001b[0;31m         \u001b[0mres\u001b[0m \u001b[0;34m=\u001b[0m \u001b[0mleastsq\u001b[0m\u001b[0;34m(\u001b[0m\u001b[0mfunc\u001b[0m\u001b[0;34m,\u001b[0m \u001b[0mp0\u001b[0m\u001b[0;34m,\u001b[0m \u001b[0mDfun\u001b[0m\u001b[0;34m=\u001b[0m\u001b[0mjac\u001b[0m\u001b[0;34m,\u001b[0m \u001b[0mfull_output\u001b[0m\u001b[0;34m=\u001b[0m\u001b[0;36m1\u001b[0m\u001b[0;34m,\u001b[0m \u001b[0;34m**\u001b[0m\u001b[0mkwargs\u001b[0m\u001b[0;34m)\u001b[0m\u001b[0;34m\u001b[0m\u001b[0m\n\u001b[0m\u001b[1;32m    677\u001b[0m         \u001b[0mpopt\u001b[0m\u001b[0;34m,\u001b[0m \u001b[0mpcov\u001b[0m\u001b[0;34m,\u001b[0m \u001b[0minfodict\u001b[0m\u001b[0;34m,\u001b[0m \u001b[0merrmsg\u001b[0m\u001b[0;34m,\u001b[0m \u001b[0mier\u001b[0m \u001b[0;34m=\u001b[0m \u001b[0mres\u001b[0m\u001b[0;34m\u001b[0m\u001b[0m\n\u001b[1;32m    678\u001b[0m         \u001b[0mcost\u001b[0m \u001b[0;34m=\u001b[0m \u001b[0mnp\u001b[0m\u001b[0;34m.\u001b[0m\u001b[0msum\u001b[0m\u001b[0;34m(\u001b[0m\u001b[0minfodict\u001b[0m\u001b[0;34m[\u001b[0m\u001b[0;34m'fvec'\u001b[0m\u001b[0;34m]\u001b[0m \u001b[0;34m**\u001b[0m \u001b[0;36m2\u001b[0m\u001b[0;34m)\u001b[0m\u001b[0;34m\u001b[0m\u001b[0m\n",
      "\u001b[0;32m/usr/local/lib/python2.7/dist-packages/scipy/optimize/minpack.pyc\u001b[0m in \u001b[0;36mleastsq\u001b[0;34m(func, x0, args, Dfun, full_output, col_deriv, ftol, xtol, gtol, maxfev, epsfcn, factor, diag)\u001b[0m\n\u001b[1;32m    375\u001b[0m     \u001b[0;32mif\u001b[0m \u001b[0;32mnot\u001b[0m \u001b[0misinstance\u001b[0m\u001b[0;34m(\u001b[0m\u001b[0margs\u001b[0m\u001b[0;34m,\u001b[0m \u001b[0mtuple\u001b[0m\u001b[0;34m)\u001b[0m\u001b[0;34m:\u001b[0m\u001b[0;34m\u001b[0m\u001b[0m\n\u001b[1;32m    376\u001b[0m         \u001b[0margs\u001b[0m \u001b[0;34m=\u001b[0m \u001b[0;34m(\u001b[0m\u001b[0margs\u001b[0m\u001b[0;34m,\u001b[0m\u001b[0;34m)\u001b[0m\u001b[0;34m\u001b[0m\u001b[0m\n\u001b[0;32m--> 377\u001b[0;31m     \u001b[0mshape\u001b[0m\u001b[0;34m,\u001b[0m \u001b[0mdtype\u001b[0m \u001b[0;34m=\u001b[0m \u001b[0m_check_func\u001b[0m\u001b[0;34m(\u001b[0m\u001b[0;34m'leastsq'\u001b[0m\u001b[0;34m,\u001b[0m \u001b[0;34m'func'\u001b[0m\u001b[0;34m,\u001b[0m \u001b[0mfunc\u001b[0m\u001b[0;34m,\u001b[0m \u001b[0mx0\u001b[0m\u001b[0;34m,\u001b[0m \u001b[0margs\u001b[0m\u001b[0;34m,\u001b[0m \u001b[0mn\u001b[0m\u001b[0;34m)\u001b[0m\u001b[0;34m\u001b[0m\u001b[0m\n\u001b[0m\u001b[1;32m    378\u001b[0m     \u001b[0mm\u001b[0m \u001b[0;34m=\u001b[0m \u001b[0mshape\u001b[0m\u001b[0;34m[\u001b[0m\u001b[0;36m0\u001b[0m\u001b[0;34m]\u001b[0m\u001b[0;34m\u001b[0m\u001b[0m\n\u001b[1;32m    379\u001b[0m     \u001b[0;32mif\u001b[0m \u001b[0mn\u001b[0m \u001b[0;34m>\u001b[0m \u001b[0mm\u001b[0m\u001b[0;34m:\u001b[0m\u001b[0;34m\u001b[0m\u001b[0m\n",
      "\u001b[0;32m/usr/local/lib/python2.7/dist-packages/scipy/optimize/minpack.pyc\u001b[0m in \u001b[0;36m_check_func\u001b[0;34m(checker, argname, thefunc, x0, args, numinputs, output_shape)\u001b[0m\n\u001b[1;32m     24\u001b[0m def _check_func(checker, argname, thefunc, x0, args, numinputs,\n\u001b[1;32m     25\u001b[0m                 output_shape=None):\n\u001b[0;32m---> 26\u001b[0;31m     \u001b[0mres\u001b[0m \u001b[0;34m=\u001b[0m \u001b[0matleast_1d\u001b[0m\u001b[0;34m(\u001b[0m\u001b[0mthefunc\u001b[0m\u001b[0;34m(\u001b[0m\u001b[0;34m*\u001b[0m\u001b[0;34m(\u001b[0m\u001b[0;34m(\u001b[0m\u001b[0mx0\u001b[0m\u001b[0;34m[\u001b[0m\u001b[0;34m:\u001b[0m\u001b[0mnuminputs\u001b[0m\u001b[0;34m]\u001b[0m\u001b[0;34m,\u001b[0m\u001b[0;34m)\u001b[0m \u001b[0;34m+\u001b[0m \u001b[0margs\u001b[0m\u001b[0;34m)\u001b[0m\u001b[0;34m)\u001b[0m\u001b[0;34m)\u001b[0m\u001b[0;34m\u001b[0m\u001b[0m\n\u001b[0m\u001b[1;32m     27\u001b[0m     \u001b[0;32mif\u001b[0m \u001b[0;34m(\u001b[0m\u001b[0moutput_shape\u001b[0m \u001b[0;32mis\u001b[0m \u001b[0;32mnot\u001b[0m \u001b[0mNone\u001b[0m\u001b[0;34m)\u001b[0m \u001b[0;32mand\u001b[0m \u001b[0;34m(\u001b[0m\u001b[0mshape\u001b[0m\u001b[0;34m(\u001b[0m\u001b[0mres\u001b[0m\u001b[0;34m)\u001b[0m \u001b[0;34m!=\u001b[0m \u001b[0moutput_shape\u001b[0m\u001b[0;34m)\u001b[0m\u001b[0;34m:\u001b[0m\u001b[0;34m\u001b[0m\u001b[0m\n\u001b[1;32m     28\u001b[0m         \u001b[0;32mif\u001b[0m \u001b[0;34m(\u001b[0m\u001b[0moutput_shape\u001b[0m\u001b[0;34m[\u001b[0m\u001b[0;36m0\u001b[0m\u001b[0;34m]\u001b[0m \u001b[0;34m!=\u001b[0m \u001b[0;36m1\u001b[0m\u001b[0;34m)\u001b[0m\u001b[0;34m:\u001b[0m\u001b[0;34m\u001b[0m\u001b[0m\n",
      "\u001b[0;32m/usr/local/lib/python2.7/dist-packages/scipy/optimize/minpack.pyc\u001b[0m in \u001b[0;36mfunc_wrapped\u001b[0;34m(params)\u001b[0m\n\u001b[1;32m    453\u001b[0m     \u001b[0;32mif\u001b[0m \u001b[0mweights\u001b[0m \u001b[0;32mis\u001b[0m \u001b[0mNone\u001b[0m\u001b[0;34m:\u001b[0m\u001b[0;34m\u001b[0m\u001b[0m\n\u001b[1;32m    454\u001b[0m         \u001b[0;32mdef\u001b[0m \u001b[0mfunc_wrapped\u001b[0m\u001b[0;34m(\u001b[0m\u001b[0mparams\u001b[0m\u001b[0;34m)\u001b[0m\u001b[0;34m:\u001b[0m\u001b[0;34m\u001b[0m\u001b[0m\n\u001b[0;32m--> 455\u001b[0;31m             \u001b[0;32mreturn\u001b[0m \u001b[0mfunc\u001b[0m\u001b[0;34m(\u001b[0m\u001b[0mxdata\u001b[0m\u001b[0;34m,\u001b[0m \u001b[0;34m*\u001b[0m\u001b[0mparams\u001b[0m\u001b[0;34m)\u001b[0m \u001b[0;34m-\u001b[0m \u001b[0mydata\u001b[0m\u001b[0;34m\u001b[0m\u001b[0m\n\u001b[0m\u001b[1;32m    456\u001b[0m     \u001b[0;32melse\u001b[0m\u001b[0;34m:\u001b[0m\u001b[0;34m\u001b[0m\u001b[0m\n\u001b[1;32m    457\u001b[0m         \u001b[0;32mdef\u001b[0m \u001b[0mfunc_wrapped\u001b[0m\u001b[0;34m(\u001b[0m\u001b[0mparams\u001b[0m\u001b[0;34m)\u001b[0m\u001b[0;34m:\u001b[0m\u001b[0;34m\u001b[0m\u001b[0m\n",
      "\u001b[0;32m<ipython-input-2-04aa0b8023cd>\u001b[0m in \u001b[0;36mhund_modal\u001b[0;34m(x, *params)\u001b[0m\n\u001b[1;32m     16\u001b[0m     \u001b[0;32mfor\u001b[0m \u001b[0mi\u001b[0m \u001b[0;32min\u001b[0m \u001b[0mrange\u001b[0m\u001b[0;34m(\u001b[0m\u001b[0;34m-\u001b[0m\u001b[0;36m180\u001b[0m\u001b[0;34m,\u001b[0m\u001b[0;36m180\u001b[0m\u001b[0;34m,\u001b[0m\u001b[0;36m10\u001b[0m\u001b[0;34m)\u001b[0m\u001b[0;34m:\u001b[0m\u001b[0;34m\u001b[0m\u001b[0m\n\u001b[1;32m     17\u001b[0m         \u001b[0;32mprint\u001b[0m \u001b[0mparams\u001b[0m\u001b[0;34m\u001b[0m\u001b[0m\n\u001b[0;32m---> 18\u001b[0;31m         \u001b[0;32mprint\u001b[0m \u001b[0mparams\u001b[0m\u001b[0;34m[\u001b[0m\u001b[0mi\u001b[0m\u001b[0;34m]\u001b[0m\u001b[0;34m\u001b[0m\u001b[0m\n\u001b[0m\u001b[1;32m     19\u001b[0m         \u001b[0mresult\u001b[0m \u001b[0;34m+=\u001b[0m \u001b[0mgauss\u001b[0m\u001b[0;34m(\u001b[0m\u001b[0mx\u001b[0m\u001b[0;34m,\u001b[0m \u001b[0mi\u001b[0m\u001b[0;34m,\u001b[0m \u001b[0mparams\u001b[0m\u001b[0;34m[\u001b[0m\u001b[0mi\u001b[0m\u001b[0;34m]\u001b[0m\u001b[0;34m[\u001b[0m\u001b[0;36m0\u001b[0m\u001b[0;34m]\u001b[0m\u001b[0;34m,\u001b[0m \u001b[0mparams\u001b[0m\u001b[0;34m[\u001b[0m\u001b[0mi\u001b[0m\u001b[0;34m]\u001b[0m\u001b[0;34m[\u001b[0m\u001b[0;36m1\u001b[0m\u001b[0;34m]\u001b[0m\u001b[0;34m)\u001b[0m\u001b[0;34m\u001b[0m\u001b[0m\n\u001b[1;32m     20\u001b[0m     \u001b[0;32mreturn\u001b[0m \u001b[0mresult\u001b[0m\u001b[0;34m\u001b[0m\u001b[0m\n",
      "\u001b[0;31mIndexError\u001b[0m: tuple index out of range"
     ]
    }
   ],
   "source": [
    "%matplotlib inline\n",
    "from matplotlib import pylab as pl\n",
    "from scipy.optimize import curve_fit\n",
    "import numpy as np\n",
    "\n",
    "data= [i.strip().split() for i in open('a2_4-C_2-OS-CT-CT.hist')][2:]\n",
    "x, y= [float(i[0]) for i in data], [float(i[1]) for i in data]\n",
    "\n",
    "\n",
    "\n",
    "def gauss(x,mu,sigma,A):\n",
    "    return A*np.exp(-(x-mu)**2/2/sigma**2)\n",
    "\n",
    "def hund_modal(x,*params):\n",
    "    result = []\n",
    "    for i in range(-180,180,10):\n",
    "        print params\n",
    "        print params[i]\n",
    "        result += gauss(x, i, params[i][0], params[i][1])\n",
    "    return result\n",
    "expected = [(0.2,2) for i in range(36)]\n",
    "print expected\n",
    "params,cov=curve_fit(hund_modal,x,y,expected)\n",
    "sigma=np.sqrt(np.diag(cov))\n",
    "print params\n",
    "pl.plot(x,y)\n",
    "pl.plot(x,hund_modal(x,*params),color='red',lw=3,label='model')\n",
    "pl.legend()\n",
    "print(params,'\\n',sigma)    "
   ]
  },
  {
   "cell_type": "code",
   "execution_count": 3,
   "metadata": {},
   "outputs": [
    {
     "name": "stdout",
     "output_type": "stream",
     "text": [
      "# histogram values for [ a2_4-C_2-OS-CT-CT ]\n",
      "\n",
      "-180.0\t45372.0\n",
      "-170.0\t115639.0\n",
      "-160.0\t127833.0\n",
      "-150.0\t90430.0\n",
      "-140.0\t51008.0\n",
      "-130.0\t27227.0\n",
      "-120.0\t24347.0\n",
      "-110.0\t41734.0\n"
     ]
    }
   ],
   "source": [
    "%%bash\n",
    "head a2_4-C_2-OS-CT-CT.hist"
   ]
  },
  {
   "cell_type": "code",
   "execution_count": 38,
   "metadata": {},
   "outputs": [
    {
     "name": "stdout",
     "output_type": "stream",
     "text": [
      "[45372.0, 115639.0, 127833.0, 90430.0, 51008.0, 27227.0, 24347.0, 41734.0, 78048.0, 128000.0, 134983.0, 55630.0, 9907.0, 1034.0, 88.0, 9.0, 1.0, 0.0, 10003.0, 7.0, 38.0, 448.0, 3775.0, 15886.0, 24921.0, 12281.0, 2351.0, 251.0, 34.0, 11.0, 1.0, 0.0, 2.0, 49.0, 748.0, 8005.0, 45372.0, 115639.0, 127833.0, 90430.0, 51008.0, 27227.0, 24347.0, 41734.0, 78048.0, 128000.0, 134983.0, 55630.0, 9907.0, 1034.0, 88.0, 9.0, 1.0, 0.0, 10003.0, 7.0, 38.0, 448.0, 3775.0, 15886.0, 24921.0, 12281.0, 2351.0, 251.0, 34.0, 11.0, 1.0, 0.0, 2.0, 49.0, 748.0, 8005.0]\n",
      "[-180.0, -170.0, -160.0, -150.0, -140.0, -130.0, -120.0, -110.0, -100.0, -90.0, -80.0, -70.0, -60.0, -50.0, -40.0, -30.0, -20.0, -10.0, 0.0, 10.0, 20.0, 30.0, 40.0, 50.0, 60.0, 70.0, 80.0, 90.0, 100.0, 110.0, 120.0, 130.0, 140.0, 150.0, 160.0, 170.0, 180.0, 190.0, 200.0, 210.0, 220.0, 230.0, 240.0, 250.0, 260.0, 270.0, 280.0, 290.0, 300.0, 310.0, 320.0, 330.0, 340.0, 350.0, 360.0, 370.0, 380.0, 390.0, 400.0, 410.0, 420.0, 430.0, 440.0, 450.0, 460.0, 470.0, 480.0, 490.0, 500.0, 510.0, 520.0, 530.0]\n",
      "[  1.06513910e-01   2.71470555e-01   3.00096813e-01   2.12290683e-01\n",
      "   1.19744810e-01   6.39172666e-02   5.71562673e-02   9.79734529e-02\n",
      "   1.83223081e-01   3.00488857e-01   3.16881933e-01   1.30595275e-01\n",
      "   2.32573680e-02   2.42738655e-03   2.06586089e-04   2.11281228e-05\n",
      "   2.34756920e-06   0.00000000e+00   2.34827347e-02   1.64329844e-05\n",
      "   8.92076295e-05   1.05171100e-03   8.86207372e-03   3.72934843e-02\n",
      "   5.85037720e-02   2.88304973e-02   5.51913519e-03   5.89239869e-04\n",
      "   7.98173527e-05   2.58232612e-05   2.34756920e-06   0.00000000e+00\n",
      "   4.69513840e-06   1.15030891e-04   1.75598176e-03   1.87922914e-02\n",
      "   1.06513910e-01   2.71470555e-01   3.00096813e-01   2.12290683e-01\n",
      "   1.19744810e-01   6.39172666e-02   5.71562673e-02   9.79734529e-02\n",
      "   1.83223081e-01   3.00488857e-01   3.16881933e-01   1.30595275e-01\n",
      "   2.32573680e-02   2.42738655e-03   2.06586089e-04   2.11281228e-05\n",
      "   2.34756920e-06   0.00000000e+00   2.34827347e-02   1.64329844e-05\n",
      "   8.92076295e-05   1.05171100e-03   8.86207372e-03   3.72934843e-02\n",
      "   5.85037720e-02   2.88304973e-02   5.51913519e-03   5.89239869e-04\n",
      "   7.98173527e-05   2.58232612e-05   2.34756920e-06   0.00000000e+00\n",
      "   4.69513840e-06   1.15030891e-04   1.75598176e-03   1.87922914e-02]\n",
      "72\n",
      "72 100\n",
      "0.180847112435 -0.0783847994574\n",
      "0.182222386727 -0.196650902407\n",
      "0.00250830488024 -0.00933496101084\n",
      "2.67114356379e-05 -0.0347311437731\n",
      "0.062767495087 -0.0111881763922\n",
      "1.28560293503e-05 -4.8510744145e-06\n",
      "0.220552337346 -0.0890237824048\n",
      "0.182223441713 -0.196651185046\n",
      "0.00250830527 -0.00933496111291\n",
      "2.67114317111e-05 -0.0347311437753\n",
      "0.0627674926005 -0.0111881671761\n",
      "0.000341878967254 -0.000652789887686\n",
      "[-165.0, -85.0, 5.0, 55.0, 195.0, 275.0, 365.0, 415.0]\n",
      "[5.0, 55.0, 195.0, 275.0]\n",
      "5.0\n",
      "55.0\n",
      "195.0\n",
      "275.0\n"
     ]
    },
    {
     "data": {
      "image/png": "[encoded data removed]",
      "text/plain": [
       "<matplotlib.figure.Figure at 0x7f26df136ed0>"
      ]
     },
     "metadata": {},
     "output_type": "display_data"
    }
   ],
   "source": [
    "from scipy.interpolate import InterpolatedUnivariateSpline\n",
    "import numpy as np \n",
    "import matplotlib.pyplot as plt\n",
    "\n",
    "from scipy.interpolate import interp1d\n",
    "\n",
    "def normalized(a, axis=-1, order=2):\n",
    "    l2 = np.atleast_1d(np.linalg.norm(a, order, axis))\n",
    "    l2[l2==0] = 1\n",
    "    return a / np.expand_dims(l2, axis)\n",
    "\n",
    "pi = np.pi\n",
    "data= [i.strip().split() for i in open('a2_4-C_2-OS-CT-CT.hist')][2:]\n",
    "x, y= [float(i[0]) for i in data], [float(i[1]) for i in data]\n",
    "x2 = x + [i+360 for i in x]\n",
    "y2 = y + y\n",
    "x = x2\n",
    "y = y2\n",
    "\n",
    "\n",
    "f2 = InterpolatedUnivariateSpline(x, y)\n",
    "#Get dervative\n",
    "der = []\n",
    "for i in range(len(y)):\n",
    "    h = 1e-4\n",
    "    der.append( ( f2(x[i]+h)-f2(x[i]-h) )/(2*h) )\n",
    "der = np.array(normalized(der)[0])\n",
    "print y\n",
    "yn = normalized(y)[0]\n",
    "print x\n",
    "xn = list(np.linspace(0,360,100))\n",
    "\n",
    "fyn = interp1d(x, yn, kind='cubic') \n",
    "ynn = fyn(xn)\n",
    "print yn\n",
    "print len(der)\n",
    "print len(x), len(xn)\n",
    "plt.plot(xn, ynn , 'g', x, [0 for i in x],'b')#-np.sin(x)   x, der , 'r',\n",
    "mu = []\n",
    "for i in range(len(der)-1):\n",
    "    if (der[i] > 0 and der[i+1] < 0):\n",
    "        print der[i], der[i+1]\n",
    "        if der[i] + np.abs(der[i+1]) < 0.025:\n",
    "            continue\n",
    "        mu.append(np.average([x[i],x[i+1]]))\n",
    "        pl.vlines(np.average([x[i],x[i+1]]),0,0.1)\n",
    "        \n",
    "print mu\n",
    "mu = [i for i in mu if i <=360 and i >= 0]\n",
    "print mu\n",
    "def gauss(x,sigma,A):\n",
    "    mu = i\n",
    "    return A*np.exp(-(x-mu)**2/2/sigma**2)\n",
    "\n",
    "for i in mu:\n",
    "    print i\n",
    "    \n",
    "    location = [k for k in zip(list(xn), list(ynn)) if k[0] > i-30 and k[0] < i+30]\n",
    "    xn2 = np.array([k[0] for k in location])\n",
    "    ynn2 = np.array([k[1] for k in location])\n",
    "    params,cov=curve_fit(gauss,xn2,ynn2)\n",
    "    pl.plot(xn,gauss(xn,*params),'r',lw=3,label='model')\n",
    "plt.show()"
   ]
  },
  {
   "cell_type": "code",
   "execution_count": null,
   "metadata": {},
   "outputs": [],
   "source": []
  },
  {
   "cell_type": "code",
   "execution_count": null,
   "metadata": {},
   "outputs": [],
   "source": []
  }
 ],
 "metadata": {
  "kernelspec": {
   "display_name": "Python 2",
   "language": "python",
   "name": "python2"
  },
  "language_info": {
   "codemirror_mode": {
    "name": "ipython",
    "version": 2
   },
   "file_extension": ".py",
   "mimetype": "text/x-python",
   "name": "python",
   "nbconvert_exporter": "python",
   "pygments_lexer": "ipython2",
   "version": "2.7.12"
  }
 },
 "nbformat": 4,
 "nbformat_minor": 2
}
